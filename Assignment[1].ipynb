{
 "cells": [
  {
   "cell_type": "code",
   "execution_count": 1,
   "id": "13ee7fe7-2612-4644-9089-c4eba3e5eb1c",
   "metadata": {},
   "outputs": [
    {
     "name": "stdin",
     "output_type": "stream",
     "text": [
      "Enter first name: Saloni\n",
      "Enter last name: Chaudhary\n"
     ]
    },
    {
     "name": "stdout",
     "output_type": "stream",
     "text": [
      "Chaudhary Saloni\n"
     ]
    }
   ],
   "source": [
    "first=input('Enter first name:') #user's first and last name and print them in reverse order\n",
    "last=input('Enter last name:')\n",
    "print(last,first)\n"
   ]
  },
  {
   "cell_type": "code",
   "execution_count": 2,
   "id": "d37130b0-5982-4abd-b428-a293350ca2a7",
   "metadata": {},
   "outputs": [
    {
     "name": "stdout",
     "output_type": "stream",
     "text": [
      "HELLO, WORLD!\n",
      "hello, Python!\n"
     ]
    }
   ],
   "source": [
    "my_string = \"hello, world!\"\n",
    "print(my_string.upper()) #changes whole text to upper case \n",
    "print(my_string.replace(\"world\", \"Python\")) #replaces world with python\n"
   ]
  },
  {
   "cell_type": "code",
   "execution_count": 3,
   "id": "c8c45bc1-1fcd-44bf-89cb-e490e4acbcca",
   "metadata": {},
   "outputs": [
    {
     "name": "stdin",
     "output_type": "stream",
     "text": [
      "Enter a number: 6\n"
     ]
    },
    {
     "name": "stdout",
     "output_type": "stream",
     "text": [
      "Converted to int: 6\n",
      "converted to float: 6.0\n",
      "converted to complex: (6+0j)\n"
     ]
    }
   ],
   "source": [
    "number= input(\"Enter a number:\")\n",
    "i=int(number) #represents whole numbers\n",
    "f=float(number) #represents real numbers that have a decimal point\n",
    "c=complex(number) #represents complex numbers in the form of (a+bj), where a is real part and b is imaginary part\n",
    "print( \"Converted to int:\", i)\n",
    "print(\"converted to float:\",f)\n",
    "print (\"converted to complex:\", c)"
   ]
  },
  {
   "cell_type": "code",
   "execution_count": 4,
   "id": "550a40f1-9996-4cb6-92fa-6551fa8243a0",
   "metadata": {},
   "outputs": [
    {
     "name": "stdin",
     "output_type": "stream",
     "text": [
      "Enter length: 7\n",
      "Enter width: 5\n"
     ]
    },
    {
     "name": "stdout",
     "output_type": "stream",
     "text": [
      "Area of rectangle: 35\n"
     ]
    }
   ],
   "source": [
    "length=int(input('Enter length:'))\n",
    "width =int(input('Enter width:'))\n",
    "area= length*width\n",
    "print(\"Area of rectangle:\", area)"
   ]
  },
  {
   "cell_type": "code",
   "execution_count": 5,
   "id": "a74edb23-bf13-4a9b-9ec8-5485f4b8af42",
   "metadata": {},
   "outputs": [
    {
     "name": "stdin",
     "output_type": "stream",
     "text": [
      "Enter number 1: 5\n",
      "Enter number 2: 10\n",
      "Enter number 3: 3\n"
     ]
    },
    {
     "name": "stdout",
     "output_type": "stream",
     "text": [
      "Average: 0\n"
     ]
    }
   ],
   "source": [
    "n1=int(input(\"Enter number 1:\"))\n",
    "n2=int(input(\"Enter number 2:\"))\n",
    "n3=int(input(\"Enter number 3:\"))\n",
    "avg=(n1+n2+n3)%3\n",
    "print(\"Average:\",avg)"
   ]
  },
  {
   "cell_type": "code",
   "execution_count": 6,
   "id": "5b6d9f88-eed0-4889-908e-c9268bf383c8",
   "metadata": {},
   "outputs": [
    {
     "name": "stdin",
     "output_type": "stream",
     "text": [
      "enter number: 5\n"
     ]
    },
    {
     "name": "stdout",
     "output_type": "stream",
     "text": [
      "The number 5 is positive\n"
     ]
    }
   ],
   "source": [
    "n=int(input(\"enter number:\"))\n",
    "if n > 0:\n",
    "    print(\"The number\",n,\"is positive\")\n",
    "elif n == 0:\n",
    "    print(\"The number\", n , \"is zero\")\n",
    "else :\n",
    "    print(\"The number\" , n, \"is negative\")\n"
   ]
  },
  {
   "cell_type": "code",
   "execution_count": 7,
   "id": "8bc4c896-ceca-49d5-b04e-7d6d38803665",
   "metadata": {},
   "outputs": [
    {
     "name": "stdin",
     "output_type": "stream",
     "text": [
      "Enter a number (or type 'exit' to quit):  5\n",
      "Enter a number (or type 'exit' to quit):  2\n",
      "Enter a number (or type 'exit' to quit):  7\n",
      "Enter a number (or type 'exit' to quit):  4\n",
      "Enter a number (or type 'exit' to quit):  3\n",
      "Enter a number (or type 'exit' to quit):  exit\n"
     ]
    },
    {
     "name": "stdout",
     "output_type": "stream",
     "text": [
      "Exiting the loop.\n"
     ]
    }
   ],
   "source": [
    "while True:\n",
    "    user_input = input(\"Enter a number (or type 'exit' to quit): \")\n",
    "\n",
    "    if user_input == 'exit':\n",
    "        print(\"Exiting the loop.\")\n",
    "        break\n",
    "    else: \n",
    "        continue"
   ]
  },
  {
   "cell_type": "code",
   "execution_count": 8,
   "id": "e231767f-ba31-495e-a65b-7b97eed42135",
   "metadata": {},
   "outputs": [
    {
     "name": "stdin",
     "output_type": "stream",
     "text": [
      "enter number 1: 2\n",
      "enter number 2: 7\n"
     ]
    },
    {
     "name": "stdout",
     "output_type": "stream",
     "text": [
      "One number is even, and the other is odd.\n"
     ]
    }
   ],
   "source": [
    "num1=int(input(\"enter number 1:\"))\n",
    "num2=int(input(\"enter number 2:\"))\n",
    "# Check if both numbers are even\n",
    "if num1 % 2 == 0 and num2 % 2 == 0:\n",
    "    print(\"Both numbers are even.\")\n",
    "# Check if both numbers are odd\n",
    "elif num1 % 2 != 0 and num2 % 2 != 0:\n",
    "    print(\"Both numbers are odd.\")\n",
    "# Otherwise, one is even and the other is odd\n",
    "else:\n",
    "    print(\"One number is even, and the other is odd.\")\n",
    "    "
   ]
  },
  {
   "cell_type": "code",
   "execution_count": 9,
   "id": "cfbad70c-64be-4fa5-99d2-f3f68e98e477",
   "metadata": {},
   "outputs": [
    {
     "name": "stdin",
     "output_type": "stream",
     "text": [
      "Enter an integer:  6\n"
     ]
    },
    {
     "name": "stdout",
     "output_type": "stream",
     "text": [
      "Binary equivalent: 110\n",
      "Octal equivalent: 6\n",
      "Hexadecimal equivalent: 6\n"
     ]
    }
   ],
   "source": [
    "# Get integer input from the user\n",
    "num = int(input(\"Enter an integer: \"))\n",
    "\n",
    "# Initialize empty strings to store the binary, octal, and hexadecimal equivalents\n",
    "binary = \"\"\n",
    "octal = \"\"\n",
    "hexadecimal = \"\"\n",
    "\n",
    "# For loop to generate binary, octal, and hexadecimal strings\n",
    "for shift in range(num.bit_length(), -1, -1):\n",
    "    # Generate the binary equivalent\n",
    "    binary += \"1\" if (num & (1 << shift)) else \"0\"\n",
    "    \n",
    "# Remove leading zeros from the binary string\n",
    "binary = binary.lstrip(\"0\") or \"0\"\n",
    "\n",
    "# For octal and hexadecimal, we use Python's built-in format functions\n",
    "octal = format(num, 'o')\n",
    "hexadecimal = format(num, 'x')\n",
    "\n",
    "# Print the results\n",
    "print(f\"Binary equivalent: {binary}\")\n",
    "print(f\"Octal equivalent: {octal}\")\n",
    "print(f\"Hexadecimal equivalent: {hexadecimal}\")"
   ]
  },
  {
   "cell_type": "code",
   "execution_count": null,
   "id": "397008ce-94ef-4a52-9392-8a39d15b421d",
   "metadata": {},
   "outputs": [],
   "source": []
  }
 ],
 "metadata": {
  "kernelspec": {
   "display_name": "Python 3 (ipykernel)",
   "language": "python",
   "name": "python3"
  },
  "language_info": {
   "codemirror_mode": {
    "name": "ipython",
    "version": 3
   },
   "file_extension": ".py",
   "mimetype": "text/x-python",
   "name": "python",
   "nbconvert_exporter": "python",
   "pygments_lexer": "ipython3",
   "version": "3.12.4"
  }
 },
 "nbformat": 4,
 "nbformat_minor": 5
}
